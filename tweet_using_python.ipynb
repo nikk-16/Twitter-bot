{
  "nbformat": 4,
  "nbformat_minor": 0,
  "metadata": {
    "colab": {
      "name": "tweet_using_python.ipynb",
      "provenance": [],
      "authorship_tag": "ABX9TyPIPoFxkTNN4OgVu7wG9SOG",
      "include_colab_link": true
    },
    "kernelspec": {
      "name": "python3",
      "display_name": "Python 3"
    },
    "language_info": {
      "name": "python"
    }
  },
  "cells": [
    {
      "cell_type": "markdown",
      "metadata": {
        "id": "view-in-github",
        "colab_type": "text"
      },
      "source": [
        "<a href=\"https://colab.research.google.com/github/nikk-16/Twitter-bot/blob/main/tweet_using_python.ipynb\" target=\"_parent\"><img src=\"https://colab.research.google.com/assets/colab-badge.svg\" alt=\"Open In Colab\"/></a>"
      ]
    },
    {
      "cell_type": "markdown",
      "source": [
        "# Tweet bot using Tweepy\n"
      ],
      "metadata": {
        "id": "5XJ1NN1Sq84F"
      }
    },
    {
      "cell_type": "code",
      "execution_count": null,
      "metadata": {
        "id": "9iLq9LeXOjBT"
      },
      "outputs": [],
      "source": [
        "pip install tweepy"
      ]
    },
    {
      "cell_type": "code",
      "source": [
        "import tweepy\n",
        "  \n",
        "# personal details\n",
        "consumer_key =\"xyz\"\n",
        "consumer_secret =\"xyz\"\n",
        "access_token =\"xyz\"\n",
        "access_token_secret =\"xyz\"\n",
        "  \n",
        "# authentication of consumer key and secret\n",
        "auth = tweepy.OAuthHandler(consumer_key, consumer_secret)\n",
        "  \n",
        "# authentication of access token and secret\n",
        "auth.set_access_token(access_token, access_token_secret)\n",
        "api = tweepy.API(auth)\n",
        "  \n",
        "# update the status\n",
        "# api.update_status(\"first tweet with python using Tweepy library✌️🐵!\")\n",
        "\n",
        "timeline = api.home_timeline()\n",
        "for tweet in timeline:\n",
        "    print(f\"{tweet.user.name} said {tweet.text}\")"
      ],
      "metadata": {
        "id": "p1zku_1XOs1C"
      },
      "execution_count": null,
      "outputs": []
    },
    {
      "cell_type": "markdown",
      "source": [
        " # **Tweet**"
      ],
      "metadata": {
        "id": "SV78tlJBtgad"
      }
    },
    {
      "cell_type": "code",
      "source": [
        "# update the status\n",
        "status=input(\"What you want to post on Twitter: \")\n",
        "api.update_status(status)"
      ],
      "metadata": {
        "id": "a_pFr8VDcZnD"
      },
      "execution_count": null,
      "outputs": []
    },
    {
      "cell_type": "markdown",
      "source": [
        "Details of any user "
      ],
      "metadata": {
        "id": "7Aj6T9mDtdq2"
      }
    },
    {
      "cell_type": "code",
      "source": [
        "user = api.get_user(input(\"Enter Username: \"))\n",
        "\n",
        "print(\"User details:\")\n",
        "print(user.name)\n",
        "print(user.description)\n",
        "print(user.location)"
      ],
      "metadata": {
        "id": "eYFEK6AggQBq"
      },
      "execution_count": null,
      "outputs": []
    },
    {
      "cell_type": "markdown",
      "source": [
        "check last 20 followers"
      ],
      "metadata": {
        "id": "h21_GVintaKv"
      }
    },
    {
      "cell_type": "code",
      "source": [
        "print(\"Last 20 Followers:\")\n",
        "for follower in user.followers():\n",
        "    print(follower.name)\n",
        "print(user.follow)"
      ],
      "metadata": {
        "id": "BXlwX-d3j0AM"
      },
      "execution_count": null,
      "outputs": []
    },
    {
      "cell_type": "markdown",
      "source": [
        "Like tweets from timeline\n"
      ],
      "metadata": {
        "id": "gwlAChy6tIGK"
      }
    },
    {
      "cell_type": "code",
      "source": [
        "tweets = api.mentions_timeline()\n",
        "for tweet in tweets:\n",
        "    tweet.favorite()\n",
        "    tweet.user.follow()"
      ],
      "metadata": {
        "id": "C9AZ_HQvkO3U"
      },
      "execution_count": null,
      "outputs": []
    }
  ]
}